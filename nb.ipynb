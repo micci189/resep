{
 "cells": [
  {
   "cell_type": "code",
   "execution_count": 1,
   "metadata": {},
   "outputs": [],
   "source": [
    "import pandas as pd\n",
    "from pprint import pprint\n",
    "\n",
    "from web_scrapping import web_scrapping\n",
    "from web_scrapping import web_scrapping_dtl\n",
    "from web_scrapping import combine\n",
    "\n",
    "from data_cleaning import clean"
   ]
  },
  {
   "cell_type": "code",
   "execution_count": 2,
   "metadata": {},
   "outputs": [],
   "source": [
    "df = pd.read_csv(\"data\\data_combine.csv\")\n",
    "df.drop(\"Unnamed: 0.1\", axis=1, inplace=True)\n",
    "df.drop(\"Unnamed: 0\", axis=1, inplace=True)"
   ]
  },
  {
   "cell_type": "code",
   "execution_count": 3,
   "metadata": {},
   "outputs": [
    {
     "name": "stdout",
     "output_type": "stream",
     "text": [
      "                         judul  \\\n",
      "11           Ayam Bumbu Kuning   \n",
      "30           Telur Bumbu Merah   \n",
      "92          Ayam Bakar 3 Bumbu   \n",
      "107         Tekwan Putih Telur   \n",
      "125                Bumbu Rujak   \n",
      "...                        ...   \n",
      "4752       Nasi Kuning Kerucut   \n",
      "4861               Mash Potato   \n",
      "4879            Tumis Kangkung   \n",
      "4989  Mie Titi (Khas Makassar)   \n",
      "4996         Sambel Ijo Kencur   \n",
      "\n",
      "                                                   link  \\\n",
      "11    https://resepmamiku.com/ayam-bumbu-kuning-dhia...   \n",
      "30    https://resepmamiku.com/telur-bumbu-merah-ketu...   \n",
      "92    https://resepmamiku.com/ayam-bakar-3-bumbu-kin...   \n",
      "107   https://resepmamiku.com/tekwan-putih-telur-deb...   \n",
      "125     https://resepmamiku.com/bumbu-rujak-herlina2012   \n",
      "...                                                 ...   \n",
      "4752  https://resepmamiku.com/nasi-kuning-kerucut-dh...   \n",
      "4861   https://resepmamiku.com/mash-potato-lilyminarosa   \n",
      "4879  https://resepmamiku.com/tumis-kangkung-mariaul...   \n",
      "4989  https://resepmamiku.com/mie-titi-khas-makassar...   \n",
      "4996  https://resepmamiku.com/sambel-ijo-kencur-ilma...   \n",
      "\n",
      "                                                  bahan  \\\n",
      "11    1 kg sayap ayam dan paha\\n3 lbr daun jeruk\\n2 ...   \n",
      "30    8 butir telur ayam ( jumlahnya sesuaikan keter...   \n",
      "92    1 ekor ayam\\n1 sachet bumbu marinasi\\n1 sdt me...   \n",
      "107   125 gr Tepung terigu pro sedang\\n250 gr Tepung...   \n",
      "125   3 balok gula merah\\n6 bh cabe rawit merah\\n1/2...   \n",
      "...                                                 ...   \n",
      "4752  4 ekor Ikan Nila\\n1 bh Jeruk Nipis\\nGaram\\nKun...   \n",
      "4861  1 kg Ayam, pot jadi 8 bagian, boleh digoreng d...   \n",
      "4879  8 butir telur, rebus dan kupas\\n5 lembar daun ...   \n",
      "4989  Kangkung\\nKacang panjang\\nDaun singkong\\nTauge...   \n",
      "4996  1 kg sayap ayam\\n3 lbr daun jeruk\\n2 lbr daun ...   \n",
      "\n",
      "                                                  bumbu metode  \n",
      "11    8 siung bawang merah\\n7 siung bawang putih\\n4 ...    NaN  \n",
      "30    6 siung bawang merah\\n4 siung bawang putih\\n2 ...    NaN  \n",
      "92    1. Masukkan semua Bahan 1 ke dalam wajan. Ungk...    NaN  \n",
      "107                                                 NaN    NaN  \n",
      "125   1. Garam, cabe rawit diulek kemudian gulmer, b...    NaN  \n",
      "...                                                 ...    ...  \n",
      "4752  6 bh Bawang Merah\\n3 bh Bawang Putih\\n4 bh Cab...    NaN  \n",
      "4861  12 siung bawang merah\\n8 siung bawang putih\\n8...    NaN  \n",
      "4879  12 siung bawang merah\\n6 siung bawang putih\\n6...    NaN  \n",
      "4989  1. Goreng kacang hingga matang kecoklatan dan ...    NaN  \n",
      "4996  6 siung bawang merah\\n5 siung bawang putih\\n7 ...    NaN  \n",
      "\n",
      "[140 rows x 5 columns]\n",
      "11    8 siung bawang merah\\n7 siung bawang putih\\n4 ...\n",
      "Name: bumbu, dtype: object\n"
     ]
    }
   ],
   "source": [
    "pprint(df[df['metode'].isna() == True])\n",
    "pprint(df.bumbu[11:12])"
   ]
  }
 ],
 "metadata": {
  "kernelspec": {
   "display_name": "resep",
   "language": "python",
   "name": "python3"
  },
  "language_info": {
   "codemirror_mode": {
    "name": "ipython",
    "version": 3
   },
   "file_extension": ".py",
   "mimetype": "text/x-python",
   "name": "python",
   "nbconvert_exporter": "python",
   "pygments_lexer": "ipython3",
   "version": "3.10.11"
  }
 },
 "nbformat": 4,
 "nbformat_minor": 2
}
